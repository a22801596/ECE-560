import simpy
import numpy as np
import matplotlib.pyplot as plt

class SmartHomeDataTransmission:
    def __init__(self, env, devices, communication_protocols, data_transfer_efficiency, compression_rates):
        self.env = env
        self.devices = devices
        self.communication_protocols = communication_protocols
        self.data_transfer_efficiency = data_transfer_efficiency
        self.compression_rates = compression_rates
        self.latency = {device: np.random.uniform(0.1, 1.0) for device in devices}  # delay time parameter
        self.packet_loss = {device: np.random.uniform(0.01, 0.1) for device in devices}  # package loss rate
        self.transmission_time = [] # originaltransmission time
        self.transmission_time_efficient = [] # transmission time after data compression

        self.env.process(self.transmit_data())

    def transmit_data(self):
        while True:
            yield self.env.timeout(1)  
            device = np.random.choice(self.devices)
            protocol = self.communication_protocols[device]
            efficiency = self.data_transfer_efficiency[device]
            latency = self.latency[device]
            packet_loss = self.packet_loss[device]
            reliability = self.reliability[device]
            compression_rate = self.compression_rates[device]

            original_data_size = np.random.randint(1, 10)  # data size is between 1-10
            compressed_data_size = original_data_size * compression_rate  # calculate the data size after compression

            #calculate transmission time
            transmission_time = np.random.exponential(protocol['speed'] * original_data_size / efficiency)
            transmission_time += latency  
            
            transmission_time_efficient = np.random.exponential(protocol['speed'] * compressed_data_size / efficiency)
            transmission_time_efficient += latency  
            
            #print("a",transmission_time)
            #print("b",transmission_time_efficient)

            # simulate package loss
            if np.random.random() < packet_loss:
                continue  # simulation of package loss

            # simulate transmission process
            yield self.env.timeout(transmission_time)  
            yield self.env.timeout(transmission_time_efficient)  
            

            self.transmission_time.append(self.env.now)
            self.transmission_time_efficient.append(self.env.now)

# initial the environment
devices = ['Sensor', 'Camera', 'Smart Plug', 'Thermostat', 'Lighting System']
communication_protocols = {'Sensor': {'speed': 1}, 'Camera': {'speed': 2}, 'Smart Plug': {'speed': 0.5}, 'Thermostat': {'speed': 1.5}, 'Lighting System': {'speed': 1.2}}
data_transfer = {'Sensor': 0.9, 'Camera': 0.8, 'Smart Plug': 0.85, 'Thermostat': 0.95, 'Lighting System': 0.88}
compression_rates = {'Sensor': 0.8, 'Camera': 0.6, 'Smart Plug': 0.9, 'Thermostat': 0.7, 'Lighting System': 0.85}

env = simpy.Environment()
smart_home_data_transmission = SmartHomeDataTransmission(env, devices, communication_protocols, data_transfer_efficiency, compression_rates)
simulation_time = 100
env.run(until=simulation_time)

# Analyze the result
def analyze_simulation_results(transmission_time):
    avg_transmission_time = np.mean(transmission_time)
    print("Average Transmission Time:", avg_transmission_time)

    plt.hist(transmission_time, bins=20, edgecolor='black')
    plt.xlabel('Transmission Time')
    plt.ylabel('Frequency')
    plt.title('Distribution of Transmission Times')
    plt.show()
    
def analyze_simulation_results_efficient(transmission_time_efficient):
    avg_transmission_time_efficient = np.mean(transmission_time_efficient)
    print("Average Transmission_efficient Time:", avg_transmission_time_efficient)

    plt.hist(transmission_time_efficient, bins=20, edgecolor='black')
    plt.xlabel('Transmission Time_efficient')
    plt.ylabel('Frequency')
    plt.title('Distribution of Transmission Times_efficient')
    plt.show()

    

analyze_simulation_results(smart_home_data_transmission.transmission_time)
analyze_simulation_results_efficient(smart_home_data_transmission.transmission_time_efficient)
